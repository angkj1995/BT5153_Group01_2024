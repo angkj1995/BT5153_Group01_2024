{
  "cells": [
    {
      "cell_type": "code",
      "execution_count": 2,
      "metadata": {
        "colab": {
          "base_uri": "https://localhost:8080/"
        },
        "id": "zVjmCSsmhh7p",
        "outputId": "ebc6e047-0e0f-4a85-e550-ab3faeb3a1fc"
      },
      "outputs": [
        {
          "output_type": "stream",
          "name": "stdout",
          "text": [
            "Drive already mounted at /content/gdrive; to attempt to forcibly remount, call drive.mount(\"/content/gdrive\", force_remount=True).\n",
            "/content/gdrive/My Drive/5153/Final Project/\n",
            "/content/gdrive/My Drive/5153/Final Project\n"
          ]
        }
      ],
      "source": [
        "# For Google Colaboratory\n",
        "import sys, os\n",
        "if 'google.colab' in sys.modules:\n",
        "    # mount google drive\n",
        "    from google.colab import drive\n",
        "    drive.mount('/content/gdrive')\n",
        "    path_to_file = '/content/gdrive/My Drive/5153/Final Project/'\n",
        "    print(path_to_file)\n",
        "    # move to Google Drive directory\n",
        "    os.chdir(path_to_file)\n",
        "    !pwd"
      ]
    },
    {
      "cell_type": "code",
      "execution_count": 16,
      "metadata": {
        "id": "I1L9L4cmgcc0"
      },
      "outputs": [],
      "source": [
        "import numpy as np\n",
        "import pandas as pd\n",
        "import matplotlib.pyplot as plt\n",
        "import re\n",
        "import random\n",
        "\n",
        "import nltk\n",
        "from nltk.corpus import stopwords\n",
        "from nltk.stem import WordNetLemmatizer\n",
        "from nltk.tokenize import word_tokenize\n",
        "\n",
        "from sklearn.model_selection import train_test_split\n",
        "from sklearn.metrics import classification_report, roc_auc_score\n",
        "from sklearn.preprocessing import LabelEncoder\n",
        "from sklearn.linear_model import LogisticRegression\n",
        "\n",
        "\n",
        "import tensorflow as tf\n",
        "from tensorflow.keras.models import Sequential\n",
        "from tensorflow.keras.layers import Dense, Embedding, Flatten, Conv1D, MaxPooling1D, Dropout\n",
        "from tensorflow.keras.preprocessing.text import Tokenizer\n",
        "from tensorflow.keras.preprocessing.sequence import pad_sequences\n",
        "from tensorflow.keras.callbacks import EarlyStopping\n",
        "from keras.utils import to_categorical\n",
        "from keras.optimizers import Adam\n",
        "\n",
        "from gensim.models import KeyedVectors\n",
        "from gensim.scripts.glove2word2vec import glove2word2vec"
      ]
    },
    {
      "cell_type": "code",
      "execution_count": 4,
      "metadata": {
        "colab": {
          "base_uri": "https://localhost:8080/"
        },
        "id": "aWeYIYfNnNy2",
        "outputId": "4cdc994c-b8f0-45f1-a6f6-19027831c082"
      },
      "outputs": [
        {
          "output_type": "stream",
          "name": "stderr",
          "text": [
            "[nltk_data] Downloading package punkt to /root/nltk_data...\n",
            "[nltk_data]   Unzipping tokenizers/punkt.zip.\n",
            "[nltk_data] Downloading package stopwords to /root/nltk_data...\n",
            "[nltk_data]   Unzipping corpora/stopwords.zip.\n"
          ]
        },
        {
          "output_type": "execute_result",
          "data": {
            "text/plain": [
              "True"
            ]
          },
          "metadata": {},
          "execution_count": 4
        }
      ],
      "source": [
        "nltk.download('punkt')\n",
        "nltk.download('stopwords')"
      ]
    },
    {
      "cell_type": "code",
      "execution_count": 5,
      "metadata": {
        "colab": {
          "base_uri": "https://localhost:8080/"
        },
        "id": "yE5E1dVOhLoV",
        "outputId": "c6afb24a-82be-4626-dea7-4593e2820928"
      },
      "outputs": [
        {
          "output_type": "stream",
          "name": "stdout",
          "text": [
            "(10269, 3)\n",
            "(1284, 3)\n",
            "(1283, 3)\n"
          ]
        },
        {
          "output_type": "stream",
          "name": "stderr",
          "text": [
            "<ipython-input-5-8d99b4cbff40>:25: SettingWithCopyWarning: \n",
            "A value is trying to be set on a copy of a slice from a DataFrame.\n",
            "Try using .loc[row_indexer,col_indexer] = value instead\n",
            "\n",
            "See the caveats in the documentation: https://pandas.pydata.org/pandas-docs/stable/user_guide/indexing.html#returning-a-view-versus-a-copy\n",
            "  train['label'] = consolidate_label(train)\n"
          ]
        }
      ],
      "source": [
        "train = pd.read_csv('train.csv')\n",
        "valid = pd.read_csv('valid.csv')\n",
        "test = pd.read_csv('test.csv')\n",
        "\n",
        "train = train.iloc[:,[2,7,1]]\n",
        "train.columns = ['text','party','label']\n",
        "valid = valid.iloc[:,[2,7,1]]\n",
        "valid.columns = ['text','party','label']\n",
        "test = test.iloc[:,[2,7,1]]\n",
        "test.columns = ['text','party','label']\n",
        "\n",
        "def consolidate_label(x):\n",
        "  a = []\n",
        "  for i in x['label']:\n",
        "    if i=='false':\n",
        "      a.append('pants-fire')\n",
        "    elif i=='half-true':\n",
        "      a.append('barely-true')\n",
        "    elif i=='mostly-true':\n",
        "      a.append('true')\n",
        "    else:\n",
        "      a.append(i)\n",
        "  return a\n",
        "\n",
        "train['label'] = consolidate_label(train)\n",
        "valid['label'] = consolidate_label(valid)\n",
        "test['label'] = consolidate_label(test)\n",
        "\n",
        "le = LabelEncoder()\n",
        "le.fit(['barely-true','pants-fire','true'])\n",
        "train['label'] = le.transform(train['label'])\n",
        "valid['label'] = le.transform(valid['label'])\n",
        "test['label'] = le.transform(test['label'])\n",
        "\n",
        "print(train.shape)\n",
        "print(valid.shape)\n",
        "print(test.shape)"
      ]
    },
    {
      "cell_type": "code",
      "execution_count": 6,
      "metadata": {
        "colab": {
          "base_uri": "https://localhost:8080/",
          "height": 206
        },
        "id": "dfiZcZSxnrT7",
        "outputId": "83f67c21-d21b-4e22-81c5-b8623a00e4bb"
      },
      "outputs": [
        {
          "output_type": "execute_result",
          "data": {
            "text/plain": [
              "                                                text       party  label\n",
              "0  Says the Annies List political group supports ...  republican      1\n",
              "1  When did the decline of coal start? It started...    democrat      0\n",
              "2  Hillary Clinton agrees with John McCain \"by vo...    democrat      2\n",
              "3  Health care reform legislation is likely to ma...        none      1\n",
              "4  The economic turnaround started at the end of ...    democrat      0"
            ],
            "text/html": [
              "\n",
              "  <div id=\"df-e55239aa-e873-45a2-b86f-688f4bd4eb45\" class=\"colab-df-container\">\n",
              "    <div>\n",
              "<style scoped>\n",
              "    .dataframe tbody tr th:only-of-type {\n",
              "        vertical-align: middle;\n",
              "    }\n",
              "\n",
              "    .dataframe tbody tr th {\n",
              "        vertical-align: top;\n",
              "    }\n",
              "\n",
              "    .dataframe thead th {\n",
              "        text-align: right;\n",
              "    }\n",
              "</style>\n",
              "<table border=\"1\" class=\"dataframe\">\n",
              "  <thead>\n",
              "    <tr style=\"text-align: right;\">\n",
              "      <th></th>\n",
              "      <th>text</th>\n",
              "      <th>party</th>\n",
              "      <th>label</th>\n",
              "    </tr>\n",
              "  </thead>\n",
              "  <tbody>\n",
              "    <tr>\n",
              "      <th>0</th>\n",
              "      <td>Says the Annies List political group supports ...</td>\n",
              "      <td>republican</td>\n",
              "      <td>1</td>\n",
              "    </tr>\n",
              "    <tr>\n",
              "      <th>1</th>\n",
              "      <td>When did the decline of coal start? It started...</td>\n",
              "      <td>democrat</td>\n",
              "      <td>0</td>\n",
              "    </tr>\n",
              "    <tr>\n",
              "      <th>2</th>\n",
              "      <td>Hillary Clinton agrees with John McCain \"by vo...</td>\n",
              "      <td>democrat</td>\n",
              "      <td>2</td>\n",
              "    </tr>\n",
              "    <tr>\n",
              "      <th>3</th>\n",
              "      <td>Health care reform legislation is likely to ma...</td>\n",
              "      <td>none</td>\n",
              "      <td>1</td>\n",
              "    </tr>\n",
              "    <tr>\n",
              "      <th>4</th>\n",
              "      <td>The economic turnaround started at the end of ...</td>\n",
              "      <td>democrat</td>\n",
              "      <td>0</td>\n",
              "    </tr>\n",
              "  </tbody>\n",
              "</table>\n",
              "</div>\n",
              "    <div class=\"colab-df-buttons\">\n",
              "\n",
              "  <div class=\"colab-df-container\">\n",
              "    <button class=\"colab-df-convert\" onclick=\"convertToInteractive('df-e55239aa-e873-45a2-b86f-688f4bd4eb45')\"\n",
              "            title=\"Convert this dataframe to an interactive table.\"\n",
              "            style=\"display:none;\">\n",
              "\n",
              "  <svg xmlns=\"http://www.w3.org/2000/svg\" height=\"24px\" viewBox=\"0 -960 960 960\">\n",
              "    <path d=\"M120-120v-720h720v720H120Zm60-500h600v-160H180v160Zm220 220h160v-160H400v160Zm0 220h160v-160H400v160ZM180-400h160v-160H180v160Zm440 0h160v-160H620v160ZM180-180h160v-160H180v160Zm440 0h160v-160H620v160Z\"/>\n",
              "  </svg>\n",
              "    </button>\n",
              "\n",
              "  <style>\n",
              "    .colab-df-container {\n",
              "      display:flex;\n",
              "      gap: 12px;\n",
              "    }\n",
              "\n",
              "    .colab-df-convert {\n",
              "      background-color: #E8F0FE;\n",
              "      border: none;\n",
              "      border-radius: 50%;\n",
              "      cursor: pointer;\n",
              "      display: none;\n",
              "      fill: #1967D2;\n",
              "      height: 32px;\n",
              "      padding: 0 0 0 0;\n",
              "      width: 32px;\n",
              "    }\n",
              "\n",
              "    .colab-df-convert:hover {\n",
              "      background-color: #E2EBFA;\n",
              "      box-shadow: 0px 1px 2px rgba(60, 64, 67, 0.3), 0px 1px 3px 1px rgba(60, 64, 67, 0.15);\n",
              "      fill: #174EA6;\n",
              "    }\n",
              "\n",
              "    .colab-df-buttons div {\n",
              "      margin-bottom: 4px;\n",
              "    }\n",
              "\n",
              "    [theme=dark] .colab-df-convert {\n",
              "      background-color: #3B4455;\n",
              "      fill: #D2E3FC;\n",
              "    }\n",
              "\n",
              "    [theme=dark] .colab-df-convert:hover {\n",
              "      background-color: #434B5C;\n",
              "      box-shadow: 0px 1px 3px 1px rgba(0, 0, 0, 0.15);\n",
              "      filter: drop-shadow(0px 1px 2px rgba(0, 0, 0, 0.3));\n",
              "      fill: #FFFFFF;\n",
              "    }\n",
              "  </style>\n",
              "\n",
              "    <script>\n",
              "      const buttonEl =\n",
              "        document.querySelector('#df-e55239aa-e873-45a2-b86f-688f4bd4eb45 button.colab-df-convert');\n",
              "      buttonEl.style.display =\n",
              "        google.colab.kernel.accessAllowed ? 'block' : 'none';\n",
              "\n",
              "      async function convertToInteractive(key) {\n",
              "        const element = document.querySelector('#df-e55239aa-e873-45a2-b86f-688f4bd4eb45');\n",
              "        const dataTable =\n",
              "          await google.colab.kernel.invokeFunction('convertToInteractive',\n",
              "                                                    [key], {});\n",
              "        if (!dataTable) return;\n",
              "\n",
              "        const docLinkHtml = 'Like what you see? Visit the ' +\n",
              "          '<a target=\"_blank\" href=https://colab.research.google.com/notebooks/data_table.ipynb>data table notebook</a>'\n",
              "          + ' to learn more about interactive tables.';\n",
              "        element.innerHTML = '';\n",
              "        dataTable['output_type'] = 'display_data';\n",
              "        await google.colab.output.renderOutput(dataTable, element);\n",
              "        const docLink = document.createElement('div');\n",
              "        docLink.innerHTML = docLinkHtml;\n",
              "        element.appendChild(docLink);\n",
              "      }\n",
              "    </script>\n",
              "  </div>\n",
              "\n",
              "\n",
              "<div id=\"df-c11bb300-71c0-4136-a85d-454ffe86346d\">\n",
              "  <button class=\"colab-df-quickchart\" onclick=\"quickchart('df-c11bb300-71c0-4136-a85d-454ffe86346d')\"\n",
              "            title=\"Suggest charts\"\n",
              "            style=\"display:none;\">\n",
              "\n",
              "<svg xmlns=\"http://www.w3.org/2000/svg\" height=\"24px\"viewBox=\"0 0 24 24\"\n",
              "     width=\"24px\">\n",
              "    <g>\n",
              "        <path d=\"M19 3H5c-1.1 0-2 .9-2 2v14c0 1.1.9 2 2 2h14c1.1 0 2-.9 2-2V5c0-1.1-.9-2-2-2zM9 17H7v-7h2v7zm4 0h-2V7h2v10zm4 0h-2v-4h2v4z\"/>\n",
              "    </g>\n",
              "</svg>\n",
              "  </button>\n",
              "\n",
              "<style>\n",
              "  .colab-df-quickchart {\n",
              "      --bg-color: #E8F0FE;\n",
              "      --fill-color: #1967D2;\n",
              "      --hover-bg-color: #E2EBFA;\n",
              "      --hover-fill-color: #174EA6;\n",
              "      --disabled-fill-color: #AAA;\n",
              "      --disabled-bg-color: #DDD;\n",
              "  }\n",
              "\n",
              "  [theme=dark] .colab-df-quickchart {\n",
              "      --bg-color: #3B4455;\n",
              "      --fill-color: #D2E3FC;\n",
              "      --hover-bg-color: #434B5C;\n",
              "      --hover-fill-color: #FFFFFF;\n",
              "      --disabled-bg-color: #3B4455;\n",
              "      --disabled-fill-color: #666;\n",
              "  }\n",
              "\n",
              "  .colab-df-quickchart {\n",
              "    background-color: var(--bg-color);\n",
              "    border: none;\n",
              "    border-radius: 50%;\n",
              "    cursor: pointer;\n",
              "    display: none;\n",
              "    fill: var(--fill-color);\n",
              "    height: 32px;\n",
              "    padding: 0;\n",
              "    width: 32px;\n",
              "  }\n",
              "\n",
              "  .colab-df-quickchart:hover {\n",
              "    background-color: var(--hover-bg-color);\n",
              "    box-shadow: 0 1px 2px rgba(60, 64, 67, 0.3), 0 1px 3px 1px rgba(60, 64, 67, 0.15);\n",
              "    fill: var(--button-hover-fill-color);\n",
              "  }\n",
              "\n",
              "  .colab-df-quickchart-complete:disabled,\n",
              "  .colab-df-quickchart-complete:disabled:hover {\n",
              "    background-color: var(--disabled-bg-color);\n",
              "    fill: var(--disabled-fill-color);\n",
              "    box-shadow: none;\n",
              "  }\n",
              "\n",
              "  .colab-df-spinner {\n",
              "    border: 2px solid var(--fill-color);\n",
              "    border-color: transparent;\n",
              "    border-bottom-color: var(--fill-color);\n",
              "    animation:\n",
              "      spin 1s steps(1) infinite;\n",
              "  }\n",
              "\n",
              "  @keyframes spin {\n",
              "    0% {\n",
              "      border-color: transparent;\n",
              "      border-bottom-color: var(--fill-color);\n",
              "      border-left-color: var(--fill-color);\n",
              "    }\n",
              "    20% {\n",
              "      border-color: transparent;\n",
              "      border-left-color: var(--fill-color);\n",
              "      border-top-color: var(--fill-color);\n",
              "    }\n",
              "    30% {\n",
              "      border-color: transparent;\n",
              "      border-left-color: var(--fill-color);\n",
              "      border-top-color: var(--fill-color);\n",
              "      border-right-color: var(--fill-color);\n",
              "    }\n",
              "    40% {\n",
              "      border-color: transparent;\n",
              "      border-right-color: var(--fill-color);\n",
              "      border-top-color: var(--fill-color);\n",
              "    }\n",
              "    60% {\n",
              "      border-color: transparent;\n",
              "      border-right-color: var(--fill-color);\n",
              "    }\n",
              "    80% {\n",
              "      border-color: transparent;\n",
              "      border-right-color: var(--fill-color);\n",
              "      border-bottom-color: var(--fill-color);\n",
              "    }\n",
              "    90% {\n",
              "      border-color: transparent;\n",
              "      border-bottom-color: var(--fill-color);\n",
              "    }\n",
              "  }\n",
              "</style>\n",
              "\n",
              "  <script>\n",
              "    async function quickchart(key) {\n",
              "      const quickchartButtonEl =\n",
              "        document.querySelector('#' + key + ' button');\n",
              "      quickchartButtonEl.disabled = true;  // To prevent multiple clicks.\n",
              "      quickchartButtonEl.classList.add('colab-df-spinner');\n",
              "      try {\n",
              "        const charts = await google.colab.kernel.invokeFunction(\n",
              "            'suggestCharts', [key], {});\n",
              "      } catch (error) {\n",
              "        console.error('Error during call to suggestCharts:', error);\n",
              "      }\n",
              "      quickchartButtonEl.classList.remove('colab-df-spinner');\n",
              "      quickchartButtonEl.classList.add('colab-df-quickchart-complete');\n",
              "    }\n",
              "    (() => {\n",
              "      let quickchartButtonEl =\n",
              "        document.querySelector('#df-c11bb300-71c0-4136-a85d-454ffe86346d button');\n",
              "      quickchartButtonEl.style.display =\n",
              "        google.colab.kernel.accessAllowed ? 'block' : 'none';\n",
              "    })();\n",
              "  </script>\n",
              "</div>\n",
              "\n",
              "    </div>\n",
              "  </div>\n"
            ],
            "application/vnd.google.colaboratory.intrinsic+json": {
              "type": "dataframe",
              "variable_name": "train",
              "summary": "{\n  \"name\": \"train\",\n  \"rows\": 10269,\n  \"fields\": [\n    {\n      \"column\": \"text\",\n      \"properties\": {\n        \"dtype\": \"string\",\n        \"num_unique_values\": 10252,\n        \"samples\": [\n          \"Of the four statewide races this century within a 300-vote margin, three have been overturned in a recount.\",\n          \"The president's plan, even after the end of its withdrawal timeline is reached, will leave in place up to 50,000 U.S. troops.\",\n          \"The only candidate pocketing big money from people who want to destroy coal is Mitch McConnell.\"\n        ],\n        \"semantic_type\": \"\",\n        \"description\": \"\"\n      }\n    },\n    {\n      \"column\": \"party\",\n      \"properties\": {\n        \"dtype\": \"category\",\n        \"num_unique_values\": 23,\n        \"samples\": [\n          \"tea-party-member\",\n          \"newsmaker\",\n          \"republican\"\n        ],\n        \"semantic_type\": \"\",\n        \"description\": \"\"\n      }\n    },\n    {\n      \"column\": \"label\",\n      \"properties\": {\n        \"dtype\": \"number\",\n        \"std\": 0,\n        \"min\": 0,\n        \"max\": 2,\n        \"num_unique_values\": 3,\n        \"samples\": [\n          1,\n          0,\n          2\n        ],\n        \"semantic_type\": \"\",\n        \"description\": \"\"\n      }\n    }\n  ]\n}"
            }
          },
          "metadata": {},
          "execution_count": 6
        }
      ],
      "source": [
        "train.head()"
      ]
    },
    {
      "cell_type": "code",
      "execution_count": 7,
      "metadata": {
        "colab": {
          "base_uri": "https://localhost:8080/"
        },
        "id": "TOGzy2dqodDI",
        "outputId": "b03623e8-7998-4ba0-dcd9-f6e10fd6f892"
      },
      "outputs": [
        {
          "output_type": "stream",
          "name": "stdout",
          "text": [
            "                                                text       party  label\n",
            "0  says annies list political group supports thir...  republican      1\n",
            "1  decline coal start started natural gas took st...    democrat      0\n",
            "2  hillary clinton agrees john mccain voting give...    democrat      2\n",
            "3  health care reform legislation likely mandate ...        none      1\n",
            "4               economic turnaround started end term    democrat      0\n"
          ]
        }
      ],
      "source": [
        "# Function to clean text data\n",
        "def clean_text(text):\n",
        "    # Convert text to lowercase\n",
        "    text = text.lower()\n",
        "    # Remove numbers\n",
        "    text = re.sub(r'\\d+', '', text)\n",
        "    # Remove punctuation\n",
        "    text = re.sub(r'[^\\w\\s]', '', text)\n",
        "    # Remove extra spaces\n",
        "    text = re.sub(r'\\s+', ' ', text).strip()\n",
        "    return text\n",
        "\n",
        "# Function to remove stopwords\n",
        "def remove_stopwords(text):\n",
        "    stop_words = set(stopwords.words('english'))\n",
        "    word_tokens = word_tokenize(text)\n",
        "    filtered_text = [word for word in word_tokens if word not in stop_words]\n",
        "    return ' '.join(filtered_text)\n",
        "\n",
        "# Apply cleaning functions\n",
        "train['text'] = train['text'].apply(clean_text).apply(remove_stopwords)\n",
        "valid['text'] = valid['text'].apply(clean_text).apply(remove_stopwords)\n",
        "test['text'] = test['text'].apply(clean_text).apply(remove_stopwords)\n",
        "\n",
        "\n",
        "print(train.head())\n"
      ]
    },
    {
      "cell_type": "code",
      "execution_count": 8,
      "metadata": {
        "colab": {
          "base_uri": "https://localhost:8080/"
        },
        "id": "yH-g6LcKrUl0",
        "outputId": "4e1041d6-651f-4b28-c87b-97e201500426"
      },
      "outputs": [
        {
          "output_type": "stream",
          "name": "stderr",
          "text": [
            "<ipython-input-8-605208f65750>:6: DeprecationWarning: Call to deprecated `glove2word2vec` (KeyedVectors.load_word2vec_format(.., binary=False, no_header=True) loads GLoVE text vectors.).\n",
            "  glove2word2vec(glove_input_file, word2vec_output_file)\n"
          ]
        }
      ],
      "source": [
        "# Glove\n",
        "\n",
        "glove_input_file = 'glove/glove.6B.100d.txt'\n",
        "word2vec_output_file = 'glove/glove.6B.100d.txt.word2vec'\n",
        "\n",
        "glove2word2vec(glove_input_file, word2vec_output_file)\n",
        "\n",
        "glove_model = KeyedVectors.load_word2vec_format(word2vec_output_file, binary=False)"
      ]
    },
    {
      "cell_type": "code",
      "execution_count": 9,
      "metadata": {
        "id": "qMjzVgRJrl9D"
      },
      "outputs": [],
      "source": [
        "# Sentence embedding\n",
        "def sentence_embedding(sentence, model):\n",
        "    words = sentence.split()\n",
        "    word_vectors = [glove_model[word] for word in words if word in glove_model]\n",
        "    if not word_vectors:  # handle cases where none of the words are in the vocabulary\n",
        "        return np.zeros(glove_model.vector_size)\n",
        "    return np.mean(word_vectors, axis=0)\n",
        "\n",
        "# Convert dataset texts to vectors\n",
        "def convert_texts_to_vectors(texts, model):\n",
        "    return np.array([sentence_embedding(text, glove_model) for text in texts])"
      ]
    },
    {
      "cell_type": "code",
      "execution_count": 10,
      "metadata": {
        "id": "ScplJqOWoBGh"
      },
      "outputs": [],
      "source": [
        "X_train = convert_texts_to_vectors(train['text'], glove_model)\n",
        "y_train = train['label'].values\n",
        "\n",
        "X_valid = convert_texts_to_vectors(valid['text'], glove_model)\n",
        "y_valid = valid['label'].values\n",
        "\n",
        "X_test = convert_texts_to_vectors(test['text'], glove_model)\n",
        "y_test = test['label'].values"
      ]
    },
    {
      "cell_type": "markdown",
      "metadata": {
        "id": "ilr0uOXEuZ7L"
      },
      "source": [
        "## GLOVE + Lasso"
      ]
    },
    {
      "cell_type": "code",
      "execution_count": 11,
      "metadata": {
        "colab": {
          "base_uri": "https://localhost:8080/"
        },
        "id": "ITB5ztd0ueUG",
        "outputId": "32748435-9dd2-4fbe-bcb3-ce0ec81aead0"
      },
      "outputs": [
        {
          "output_type": "stream",
          "name": "stdout",
          "text": [
            "Test Classification Report:\n",
            "              precision    recall  f1-score   support\n",
            "\n",
            " barely-true     0.4332    0.5052    0.4664       481\n",
            "  pants-fire     0.4162    0.2398    0.3043       342\n",
            "        true     0.4571    0.5217    0.4873       460\n",
            "\n",
            "    accuracy                         0.4404      1283\n",
            "   macro avg     0.4355    0.4222    0.4193      1283\n",
            "weighted avg     0.4372    0.4404    0.4307      1283\n",
            "\n",
            "Test ROC AUC: 0.6063857415598773\n"
          ]
        }
      ],
      "source": [
        "logistic_model = LogisticRegression(penalty='l1', solver='liblinear', max_iter=1000, multi_class='ovr')\n",
        "logistic_model.fit(X_train, y_train)\n",
        "\n",
        "test_probs = logistic_model.predict_proba(X_test)\n",
        "test_preds = logistic_model.predict(X_test)\n",
        "\n",
        "test_auc = roc_auc_score(y_test, test_probs, multi_class='ovr', average='macro')\n",
        "\n",
        "print(\"Test Classification Report:\")\n",
        "print(classification_report(y_test, logistic_model.predict(X_test), target_names=le.classes_, digits=4))\n",
        "print(\"Test ROC AUC:\", test_auc)"
      ]
    },
    {
      "cell_type": "markdown",
      "metadata": {
        "id": "fybWvMLdyrYV"
      },
      "source": [
        "## GLOVE + CNN"
      ]
    },
    {
      "cell_type": "code",
      "source": [
        "train_texts = train['text'].tolist()\n",
        "\n",
        "# Calculate the length of reviews\n",
        "text_lengths = [len(text.split()) for text in train_texts]\n",
        "\n",
        "# Plot the distribution of text lengths\n",
        "plt.hist(text_lengths, bins=50)\n",
        "plt.title('Distribution of Text Lengths')\n",
        "plt.xlabel('Length of Text')\n",
        "plt.ylabel('Frequency')\n",
        "plt.show()\n",
        "\n",
        "# Max length\n",
        "maxlen = max(text_lengths)\n",
        "print(f\"Max length is {maxlen}\")"
      ],
      "metadata": {
        "colab": {
          "base_uri": "https://localhost:8080/",
          "height": 489
        },
        "id": "4DuAcC_6H70C",
        "outputId": "ed8ba8a4-5b93-4913-f453-08d938465adf"
      },
      "execution_count": 12,
      "outputs": [
        {
          "output_type": "display_data",
          "data": {
            "text/plain": [
              "<Figure size 640x480 with 1 Axes>"
            ],
            "image/png": "[encoded data removed]"
          },
          "metadata": {}
        },
        {
          "output_type": "stream",
          "name": "stdout",
          "text": [
            "Max length is 43\n"
          ]
        }
      ]
    },
    {
      "cell_type": "code",
      "source": [
        "# Initialize the tokenizer\n",
        "tokenizer = Tokenizer()\n",
        "tokenizer.fit_on_texts(train_texts)\n",
        "\n",
        "# Summarize\n",
        "word_counts = tokenizer.word_counts\n",
        "sorted_word_counts = sorted(word_counts.items(), key=lambda x: x[1], reverse=True)\n",
        "\n",
        "# Plot the top N word frequencies\n",
        "top_N = 100\n",
        "plt.bar(range(top_N), [freq for _, freq in sorted_word_counts[:top_N]])\n",
        "plt.title('Top 100 Word Frequencies')\n",
        "plt.ylabel('Frequency')\n",
        "plt.show()\n",
        "\n",
        "# Max vocab size\n",
        "max_vocabulary_size = len(tokenizer.word_index)\n",
        "print(f\"Maximum vocabulary size (number of unique words): {max_vocabulary_size}\")\n"
      ],
      "metadata": {
        "colab": {
          "base_uri": "https://localhost:8080/",
          "height": 469
        },
        "id": "EHTNsUPcIG1D",
        "outputId": "90784119-c3de-44a0-f924-03ab4e18b122"
      },
      "execution_count": 13,
      "outputs": [
        {
          "output_type": "display_data",
          "data": {
            "text/plain": [
              "<Figure size 640x480 with 1 Axes>"
            ],
            "image/png": "[encoded data removed]"
          },
          "metadata": {}
        },
        {
          "output_type": "stream",
          "name": "stdout",
          "text": [
            "Maximum vocabulary size (number of unique words): 12225\n"
          ]
        }
      ]
    },
    {
      "cell_type": "code",
      "execution_count": 18,
      "metadata": {
        "colab": {
          "base_uri": "https://localhost:8080/"
        },
        "id": "WdM-_HC4y_6a",
        "outputId": "12488b72-7d7b-47ae-fa60-cc3742940eb2"
      },
      "outputs": [
        {
          "output_type": "stream",
          "name": "stdout",
          "text": [
            "Epoch 1/15\n",
            "321/321 [==============================] - 7s 18ms/step - loss: 1.0908 - accuracy: 0.3814 - val_loss: 1.0733 - val_accuracy: 0.3941\n",
            "Epoch 2/15\n",
            "321/321 [==============================] - 8s 24ms/step - loss: 1.0762 - accuracy: 0.3961 - val_loss: 1.0682 - val_accuracy: 0.4112\n",
            "Epoch 3/15\n",
            "321/321 [==============================] - 6s 18ms/step - loss: 1.0639 - accuracy: 0.4108 - val_loss: 1.0705 - val_accuracy: 0.4159\n",
            "Epoch 4/15\n",
            "321/321 [==============================] - 7s 23ms/step - loss: 1.0509 - accuracy: 0.4329 - val_loss: 1.0765 - val_accuracy: 0.4128\n",
            "Epoch 5/15\n",
            "321/321 [==============================] - 6s 18ms/step - loss: 1.0163 - accuracy: 0.4576 - val_loss: 1.0650 - val_accuracy: 0.4361\n",
            "Epoch 6/15\n",
            "321/321 [==============================] - 7s 21ms/step - loss: 0.9807 - accuracy: 0.4902 - val_loss: 1.1128 - val_accuracy: 0.4182\n",
            "Epoch 7/15\n",
            "321/321 [==============================] - 7s 20ms/step - loss: 0.9265 - accuracy: 0.5323 - val_loss: 1.1128 - val_accuracy: 0.4198\n",
            "Epoch 8/15\n",
            "321/321 [==============================] - 6s 19ms/step - loss: 0.8594 - accuracy: 0.5679 - val_loss: 1.1587 - val_accuracy: 0.4089\n",
            "Epoch 9/15\n",
            "321/321 [==============================] - 7s 22ms/step - loss: 0.7842 - accuracy: 0.6132 - val_loss: 1.2278 - val_accuracy: 0.4112\n",
            "Epoch 10/15\n",
            "321/321 [==============================] - 6s 18ms/step - loss: 0.7227 - accuracy: 0.6467 - val_loss: 1.3055 - val_accuracy: 0.4377\n",
            "41/41 [==============================] - 0s 7ms/step\n",
            "Test Classification Report:\n",
            "              precision    recall  f1-score   support\n",
            "\n",
            " barely-true     0.3976    0.6133    0.4824       481\n",
            "  pants-fire     0.3650    0.2924    0.3247       342\n",
            "        true     0.4607    0.2674    0.3384       460\n",
            "\n",
            "    accuracy                         0.4037      1283\n",
            "   macro avg     0.4077    0.3910    0.3818      1283\n",
            "weighted avg     0.4115    0.4037    0.3887      1283\n",
            "\n",
            "41/41 [==============================] - 0s 8ms/step - loss: 1.0772 - accuracy: 0.4037\n",
            "Test Accuracy: 0.4037412405014038\n",
            "41/41 [==============================] - 0s 11ms/step\n",
            "Test ROC AUC: 0.583204430851359\n"
          ]
        }
      ],
      "source": [
        "python_random_seed = 2024\n",
        "np.random.seed(python_random_seed)\n",
        "random.seed(python_random_seed)\n",
        "tf.random.set_seed(python_random_seed)\n",
        "\n",
        "\n",
        "max_words = 15000  # Max vocab size\n",
        "max_length = 50  # Max length of text sequences\n",
        "\n",
        "# Initialize and fit tokenizer\n",
        "tokenizer = Tokenizer(num_words=max_words)\n",
        "tokenizer.fit_on_texts(train['text'])\n",
        "word_index = tokenizer.word_index\n",
        "\n",
        "# Convert texts to sequences and pad them\n",
        "sequence_train = tokenizer.texts_to_sequences(train['text'])\n",
        "sequence_valid = tokenizer.texts_to_sequences(valid['text'])\n",
        "sequence_test = tokenizer.texts_to_sequences(test['text'])\n",
        "\n",
        "X_train_padded = pad_sequences(sequence_train, maxlen=max_length)\n",
        "X_valid_padded = pad_sequences(sequence_valid, maxlen=max_length)\n",
        "X_test_padded = pad_sequences(sequence_test, maxlen=max_length)\n",
        "\n",
        "# Labels\n",
        "num_classes = 3  # Number of classes\n",
        "y_train = to_categorical(train['label'], num_classes)\n",
        "y_valid = to_categorical(valid['label'], num_classes)\n",
        "y_test = to_categorical(test['label'], num_classes)\n",
        "\n",
        "#  Embedding matrix\n",
        "embedding_dim = 100\n",
        "embedding_matrix = np.zeros((max_words, embedding_dim))\n",
        "\n",
        "for word, i in word_index.items():\n",
        "    if i < max_words:\n",
        "        try:\n",
        "            embedding_vector = glove_model[word]\n",
        "            embedding_matrix[i] = embedding_vector\n",
        "        except KeyError:\n",
        "            # Handle the case where the word is not in the GloVe vocabulary\n",
        "            embedding_matrix[i] = np.zeros(embedding_dim)\n",
        "\n",
        "# Build the model\n",
        "model = Sequential()\n",
        "model.add(Embedding(max_words, embedding_dim, input_length=max_length,\n",
        "                    weights=[embedding_matrix], trainable=False))\n",
        "model.add(Conv1D(128, 5, activation='relu'))\n",
        "model.add(MaxPooling1D(2))\n",
        "model.add(Conv1D(64, 3, activation='relu'))\n",
        "model.add(MaxPooling1D(2))\n",
        "model.add(Flatten())\n",
        "model.add(Dense(10, activation='relu'))\n",
        "model.add(Dropout(0.5))\n",
        "model.add(Dense(num_classes, activation='softmax'))\n",
        "\n",
        "\n",
        "# Compile and train the model\n",
        "model.compile(optimizer=Adam(), loss='categorical_crossentropy', metrics=['accuracy'])\n",
        "\n",
        "early_stopping = EarlyStopping(monitor='val_loss', patience=5, restore_best_weights=True)\n",
        "\n",
        "history = model.fit(X_train_padded, y_train, epochs=15, validation_data=(X_valid_padded, y_valid),\n",
        "                    callbacks=[early_stopping])\n",
        "\n",
        "\n",
        "\n",
        "# Evaluate and predict\n",
        "\n",
        "test_probs = model.predict(X_test_padded)\n",
        "test_predictions = np.argmax(test_probs, axis=1)\n",
        "y_true = np.argmax(y_test, axis=1)\n",
        "\n",
        "print(\"Test Classification Report:\")\n",
        "print(classification_report(y_true, test_predictions, target_names=le.classes_, digits = 4))\n",
        "test_loss, test_accuracy = model.evaluate(X_test_padded, y_test)\n",
        "print(f'Test Accuracy: {test_accuracy}')\n",
        "\n",
        "test_probs = model.predict(X_test_padded)\n",
        "test_auc = roc_auc_score(y_test, test_probs, multi_class='ovr', average='macro')\n",
        "print(\"Test ROC AUC:\", test_auc)\n"
      ]
    }
  ],
  "metadata": {
    "colab": {
      "provenance": []
    },
    "kernelspec": {
      "display_name": "Python 3",
      "name": "python3"
    },
    "language_info": {
      "name": "python"
    }
  },
  "nbformat": 4,
  "nbformat_minor": 0
}